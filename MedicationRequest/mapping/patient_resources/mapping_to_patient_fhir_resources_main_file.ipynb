{
 "cells": [
  {
   "cell_type": "code",
   "execution_count": 1,
   "metadata": {},
   "outputs": [
    {
     "name": "stdout",
     "output_type": "stream",
     "text": [
      "FHIR Patient Bundle with fullUrl has been saved to fhir_patient_bundle_with_fullUrl_lowercase_transaction_part2.json\n"
     ]
    }
   ],
   "source": [
    "import pandas as pd\n",
    "import json\n",
    "import uuid\n",
    "from fhir.resources.bundle import Bundle\n",
    "from fhir.resources.patient import Patient\n",
    "from fhir.resources.narrative import Narrative\n",
    "\n",
    "# Load the CSV file\n",
    "csv_file = 'Patient_resources.csv'\n",
    "data = pd.read_csv(csv_file)\n",
    "\n",
    "# Convert date_of_birth column to ISO 8601 format strings\n",
    "data['date_of_birth'] = pd.to_datetime(data['date_of_birth']).dt.strftime('%Y-%m-%d')\n",
    "\n",
    "# Create a list to hold Bundle entries\n",
    "entries = []\n",
    "\n",
    "# Process each row in the CSV\n",
    "\n",
    "for index, row in data.iterrows():\n",
    "    deceasedBoolean = row['living_status'].lower() == 'expired'  # Determine deceased status\n",
    "\n",
    "    patient = Patient.construct(\n",
    "        id=str(row[\"subject_id\"]),\n",
    "        identifier=[{\"value\": str(row[\"subject_id\"])}],\n",
    "        birthDate=row[\"date_of_birth\"],\n",
    "        gender=row[\"gender\"],\n",
    "        deceasedBoolean=deceasedBoolean\n",
    "    )\n",
    "    \n",
    "    # Create a narrative for the patient\n",
    "    narrative_text = f\"<div xmlns='http://www.w3.org/1999/xhtml'>Patient record for {row['subject_id']}</div>\"\n",
    "    patient.text = Narrative.construct(status=\"generated\", div=narrative_text)\n",
    "\n",
    "    # Create a Bundle entry\n",
    "    entry = {\n",
    "        \"fullUrl\": f\"urn:uuid:{str(uuid.uuid4())}\",\n",
    "        \"resource\": patient.dict(),\n",
    "        \"request\": {\n",
    "            \"method\": \"POST\",  # Use POST to create new resources\n",
    "            \"url\": \"Patient\"   # Specify the resource type\n",
    "        }\n",
    "    }\n",
    "\n",
    "    # Add the entry to the list\n",
    "    entries.append(entry)\n",
    "\n",
    "# Create a Bundle resource\n",
    "bundle = Bundle.construct(\n",
    "    type=\"transaction\",  # Set Bundle type to transaction\n",
    "    entry=entries\n",
    ")\n",
    "\n",
    "# Convert the Bundle to JSON\n",
    "bundle_json = bundle.dict()\n",
    "\n",
    "# Save the JSON to a file\n",
    "output_file = 'fhir_patient_bundle_transaction_main_file.json'\n",
    "with open(output_file, 'w') as f:\n",
    "    json.dump(bundle_json, f, indent=2)\n",
    "\n",
    "print(f\"FHIR Patient Bundle with fullUrl has been saved to {output_file}\")\n"
   ]
  },
  {
   "cell_type": "code",
   "execution_count": 3,
   "metadata": {},
   "outputs": [
    {
     "name": "stdout",
     "output_type": "stream",
     "text": [
      "Successfully uploaded the JSON file to the HAPI FHIR server.\n",
      "Resource IDs have been saved to uploaded_resource_ids.json.\n"
     ]
    }
   ],
   "source": [
    "\n",
    "#Uploading it to the local HAPI FHIR server (R5 version)\n",
    "import json\n",
    "import requests\n",
    "\n",
    "# Load the JSON data from the file\n",
    "input_file_path = 'fhir_patient_bundle_transaction_main_file.json'\n",
    "output_file_path = 'uploaded_resource_ids.json'\n",
    "\n",
    "with open(input_file_path, 'r') as file:\n",
    "    data = json.load(file)\n",
    "\n",
    "# Define the HAPI FHIR server URL\n",
    "url = 'http://localhost:8080/fhir'\n",
    "\n",
    "# Make a POST request to upload the Bundle\n",
    "response = requests.post(url, json=data, headers={'Content-Type': 'application/fhir+json'})\n",
    "\n",
    "if response.status_code == 200:\n",
    "    print(\"Successfully uploaded the JSON file to the HAPI FHIR server.\")\n",
    "\n",
    "    # Parse the response to extract resource IDs\n",
    "    response_data = response.json()\n",
    "    resource_ids = []\n",
    "\n",
    "    for entry in response_data.get('entry', []):\n",
    "        resource_id = entry.get('response', {}).get('location', '')\n",
    "        resource_ids.append(resource_id)\n",
    "\n",
    "    # Save the resource IDs to a new JSON file\n",
    "    with open(output_file_path, 'w') as output_file:\n",
    "        json.dump(resource_ids, output_file, indent=4)\n",
    "\n",
    "    print(f\"Resource IDs have been saved to {output_file_path}.\")\n",
    "else:\n",
    "    print(f\"Failed to upload the JSON file. Status code: {response.status_code}\")\n",
    "    print(response.text)\n"
   ]
  }
 ],
 "metadata": {
  "kernelspec": {
   "display_name": "Python 3",
   "language": "python",
   "name": "python3"
  },
  "language_info": {
   "codemirror_mode": {
    "name": "ipython",
    "version": 3
   },
   "file_extension": ".py",
   "mimetype": "text/x-python",
   "name": "python",
   "nbconvert_exporter": "python",
   "pygments_lexer": "ipython3",
   "version": "3.10.12"
  }
 },
 "nbformat": 4,
 "nbformat_minor": 2
}
